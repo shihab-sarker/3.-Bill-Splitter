{
 "cells": [
  {
   "cell_type": "markdown",
   "metadata": {},
   "source": [
    "# Description\n",
    "It's bill time! Let's split the bill among everyone and update the values in the dictionary you have created in the previous stage.\n",
    "\n",
    "Since we don't want to deal with too many decimals (who carries that much change anyway?), round the split amount to two decimal places and then update the dictionary with the split values.\n",
    "\n",
    "# Objectives\n",
    "In this stage your program should perform the following steps together with the steps of the previous stage:\n",
    "\n",
    "```\n",
    "If there are no people to split the bill (the number of friends is 0 or an invalid input), output \"No one is joining for the party\";\n",
    "Else, take user input: the final bill;\n",
    "Split the total bill equally among everyone;\n",
    "Round the split value to two decimal places;\n",
    "Update the dictionary with the split values;\n",
    "Print the updated dictionary.\n",
    "Do not print the output of the previous stage (see examples).\n",
    "```\n",
    "\n",
    "# Examples\n",
    "The greater-than symbol followed by a space (> ) represents the user input. Note that it's not part of the input.\n",
    "\n",
    "Example 1: Five people joining\n",
    "```\n",
    "Enter the number of friends joining (including you):\n",
    "> 5\n",
    "\n",
    "Enter the name of every friend (including you), each on a new line:\n",
    "> Marc\n",
    "> Jem\n",
    "> Monica\n",
    "> Anna\n",
    "> Jason\n",
    "\n",
    "Enter the total bill value:\n",
    "> 100\n",
    "\n",
    "{'Marc': 20, 'Jem': 20, 'Monica': 20, 'Anna': 20, 'Jason': 20}\n",
    "```\n",
    "Example 2: Seven people joining\n",
    "```\n",
    "Enter the number of friends joining (including you):\n",
    "> 7\n",
    "\n",
    "Enter the name of every friend (including you), each on a new line:\n",
    "> Marc\n",
    "> Jem\n",
    "> Monica\n",
    "> Anna\n",
    "> Jason\n",
    "> Ben\n",
    "> Ned\n",
    "\n",
    "Enter the total bill value:\n",
    "> 41\n",
    "\n",
    "{'Marc': 5.86, 'Jem': 5.86, 'Monica':5.86, 'Anna': 5.86, 'Jason': 5.86, 'Ben': 5.86, 'Ned': 5.86}\n",
    "```\n",
    "Example 3: Invalid input\n",
    "```\n",
    "Enter the number of friends joining (including you):\n",
    "> 0\n",
    "\n",
    "No one is joining for the party\n",
    "```\n"
   ]
  },
  {
   "cell_type": "code",
   "execution_count": 2,
   "metadata": {},
   "outputs": [
    {
     "name": "stdout",
     "output_type": "stream",
     "text": [
      "Enter the name of every friend (including you), each on a new line:\n",
      "{'a': 166.67, 'b': 166.67, 'c': 166.67}\n"
     ]
    }
   ],
   "source": [
    "# Solution\n",
    "def main():\n",
    "    num_friends = int(input(\"Enter the number of friends joining (including you):\\n\"))\n",
    "    \n",
    "    if num_friends <= 0:\n",
    "        print(\"No one is joining for the party\")\n",
    "    else:\n",
    "        friends_dict = {}\n",
    "        print(\"Enter the name of every friend (including you), each on a new line:\")\n",
    "        for _ in range(num_friends):\n",
    "            name = input(\"> \")\n",
    "            friends_dict[name] = 0\n",
    "        \n",
    "        total_bill = float(input(\"Enter the total bill value:\\n\"))\n",
    "        split_value = round(total_bill / num_friends, 2)\n",
    "        \n",
    "        for name in friends_dict:\n",
    "            friends_dict[name] = split_value\n",
    "        \n",
    "        print(friends_dict)\n",
    "\n",
    "if __name__ == \"__main__\":\n",
    "    main()"
   ]
  }
 ],
 "metadata": {
  "kernelspec": {
   "display_name": "base",
   "language": "python",
   "name": "python3"
  },
  "language_info": {
   "codemirror_mode": {
    "name": "ipython",
    "version": 3
   },
   "file_extension": ".py",
   "mimetype": "text/x-python",
   "name": "python",
   "nbconvert_exporter": "python",
   "pygments_lexer": "ipython3",
   "version": "3.12.4"
  }
 },
 "nbformat": 4,
 "nbformat_minor": 2
}
